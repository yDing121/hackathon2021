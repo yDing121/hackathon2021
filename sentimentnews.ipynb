{
  "nbformat": 4,
  "nbformat_minor": 0,
  "metadata": {
    "kernelspec": {
      "language": "python",
      "display_name": "Python 3",
      "name": "python3"
    },
    "language_info": {
      "name": "python",
      "version": "3.7.10",
      "mimetype": "text/x-python",
      "codemirror_mode": {
        "name": "ipython",
        "version": 3
      },
      "pygments_lexer": "ipython3",
      "nbconvert_exporter": "python",
      "file_extension": ".py"
    },
    "colab": {
      "name": "Copy of sentimentnews.ipynb",
      "provenance": []
    }
  },
  "cells": [
    {
      "cell_type": "code",
      "metadata": {
        "_uuid": "8f2839f25d086af736a60e9eeb907d3b93b6e0e5",
        "_cell_guid": "b1076dfc-b9ad-4769-8c92-a6c4dae69d19",
        "execution": {
          "iopub.status.busy": "2021-08-22T09:55:44.093150Z",
          "iopub.execute_input": "2021-08-22T09:55:44.093548Z",
          "iopub.status.idle": "2021-08-22T09:55:44.107542Z",
          "shell.execute_reply.started": "2021-08-22T09:55:44.093513Z",
          "shell.execute_reply": "2021-08-22T09:55:44.106338Z"
        },
        "trusted": true,
        "id": "odQd8oTf8RsE"
      },
      "source": [
        "import numpy as np\n",
        "from matplotlib import pyplot as plt\n",
        "import pandas as pd\n",
        "from collections import Counter\n",
        "from importlib.machinery import SourceFileLoader\n",
        "from os.path import join\n",
        "from torchtext.vocab import GloVe\n",
        "import seaborn as sns\n",
        "\n",
        "import nltk\n",
        "from nltk.tokenize import sent_tokenize, word_tokenize\n",
        "from nltk.stem.wordnet import WordNetLemmatizer\n",
        "from nltk.stem.porter import *\n",
        "from nltk import word_tokenize\n",
        "from nltk.corpus import stopwords\n",
        "nltk.download('stopwords' ,quiet=True)\n",
        "nltk.download('wordnet')\n",
        "\n",
        "from sklearn.feature_extraction.text import CountVectorizer\n",
        "from sklearn.linear_model import LogisticRegression\n",
        "from sklearn.model_selection import train_test_split\n",
        "from sklearn.metrics import multilabel_confusion_matrix\n",
        "from sklearn import metrics\n",
        "from keras.preprocessing.text import Tokenizer\n",
        "from keras.preprocessing.sequence import pad_sequences\n",
        "from keras.models import Sequential\n",
        "from keras.layers import Dense, Embedding, LSTM, SpatialDropout1D\n",
        "from sklearn.model_selection import train_test_split\n",
        "from keras.utils.np_utils import to_categorical\n",
        "from keras.callbacks import EarlyStopping\n",
        "from keras.layers import Dropout\n",
        "\n",
        "import re\n",
        "\n",
        "STOPWORDS = set(stopwords.words('english'))\n",
        "from bs4 import BeautifulSoup\n",
        "\n",
        "\n",
        "import os\n",
        "\n",
        "# Web Scraping\n",
        "import requests\n",
        "from bs4 import BeautifulSoup"
      ],
      "execution_count": null,
      "outputs": []
    },
    {
      "cell_type": "code",
      "metadata": {
        "id": "UXYRDEJ68TPQ",
        "colab": {
          "base_uri": "https://localhost:8080/"
        },
        "outputId": "0dcbf01c-7436-40e3-d975-f6b6a4410c0c"
      },
      "source": [
        "# Google drive\n",
        "from google.colab import files, drive\n",
        "drive.mount('/content/drive')\n"
      ],
      "execution_count": null,
      "outputs": [
        {
          "output_type": "stream",
          "text": [
            "Drive already mounted at /content/drive; to attempt to forcibly remount, call drive.mount(\"/content/drive\", force_remount=True).\n"
          ],
          "name": "stdout"
        }
      ]
    },
    {
      "cell_type": "code",
      "metadata": {
        "id": "WJy4GkzT8YPF",
        "colab": {
          "base_uri": "https://localhost:8080/"
        },
        "outputId": "a84ab812-b000-4dea-f322-bf1dac621434"
      },
      "source": [
        "%cd drive/MyDrive"
      ],
      "execution_count": null,
      "outputs": [
        {
          "output_type": "stream",
          "text": [
            "[Errno 2] No such file or directory: 'drive/MyDrive'\n",
            "/content/drive/MyDrive\n"
          ],
          "name": "stdout"
        }
      ]
    },
    {
      "cell_type": "code",
      "metadata": {
        "execution": {
          "iopub.status.busy": "2021-08-22T10:32:31.417300Z",
          "iopub.execute_input": "2021-08-22T10:32:31.417644Z",
          "iopub.status.idle": "2021-08-22T10:32:31.457657Z",
          "shell.execute_reply.started": "2021-08-22T10:32:31.417615Z",
          "shell.execute_reply": "2021-08-22T10:32:31.456928Z"
        },
        "trusted": true,
        "id": "9O6OUKTb8RsF"
      },
      "source": [
        "# Read csvs\n",
        "df_train = pd.read_csv(\"finance_train.csv\")\n",
        "df_test = pd.read_csv(\"finance_test.csv\")\n",
        "\n",
        "# Constants\n",
        "PUNCTUATION = '!#$%&()*,-./:;<=>?@^_`{|}~'\n",
        "PUNCTUATION_RE = re.compile(\"[%s]\" % PUNCTUATION)\n",
        "REPLACE_BY_SPACE_RE = re.compile('[/(){}\\[\\]\\|@,;]')\n",
        "BAD_SYMBOLS_RE = re.compile('[^0-9a-z #+_]')\n",
        "STOPWORDS = set(stopwords.words('english'))\n",
        "\n",
        "\n",
        "# # Hyperparameters - we didn't really end up using these, we used numbers instead\n",
        "# MAX_NB_WORDS = None\n",
        "# MAX_SEQUENCE_LENGTH = None\n",
        "# EPOCHS = None\n",
        "# EMBEDDING_DIM = None\n",
        "# BATCH_SIZE = None\n",
        "\n",
        "# Clean text - returns lowercase text with removed chars and stopwords\n",
        "def clean_text(text:str):\n",
        "    text = text.lower()\n",
        "    text = REPLACE_BY_SPACE_RE.sub(' ', text)\n",
        "    text = BAD_SYMBOLS_RE.sub('', text)\n",
        "    text = text.replace('x', '')\n",
        "    text = PUNCTUATION_RE.sub('', text)\n",
        "    text = ' '.join(word for word in text.split() if word not in STOPWORDS) \n",
        "    return text\n",
        "\n",
        "# Padding and indexing of unique words\n",
        "def pad_sequences_train(train, test):\n",
        "  tokenizer = Tokenizer(num_words=MAX_NB_WORDS, filters=PUNCTUATION, lower=True)\n",
        "  tokenizer.fit_on_texts(train['Sentence'].values)\n",
        "  word_index = tokenizer.word_index\n",
        "  X = tokenizer.texts_to_sequences(train['Sentence'].values)\n",
        "  X_train = pad_sequences(X, maxlen=MAX_SEQUENCE_LENGTH)\n",
        "  Xt = tokenizer.texts_to_sequences(test['Sentence'].values)\n",
        "  X_test = pad_sequences(Xt, maxlen=MAX_SEQUENCE_LENGTH)\n",
        "  return X_train, X_test\n",
        "\n",
        "# Run model\n",
        "def run_model(xtr, ytr, xt, yt, labelnum, epochs=5, max_sequence_length=256, max_nb_words=1000, embedding_dim=300):\n",
        "  # Problematic input\n",
        "  if any(x is None for x in [xtr, ytr, xt, yt, epochs, max_sequence_length, max_nb_words, embedding_dim]):\n",
        "    print('Replace the None values above with your new values before calling the run_model() function.')\n",
        "    return None, None, None\n",
        "  \n",
        "  # NN\n",
        "  model = Sequential() # Container\n",
        "  model.add(Embedding(max_nb_words+1, embedding_dim, mask_zero=True, input_length=max_sequence_length)) # Embedding\n",
        "  model.add(SpatialDropout1D(0.2)) # Dropout\n",
        "  model.add(LSTM(100, dropout=0.2, recurrent_dropout=0.2)) # LSTM layer\n",
        "  model.add(Dense(labelnum, activation='softmax')) # Densely connected layer with softmax activation\n",
        "  model.compile(loss='categorical_crossentropy', optimizer='adam', metrics=['accuracy'])\n",
        "\n",
        "  # Performance\n",
        "  print(model.summary())\n",
        "  history = model.fit(xtr, \n",
        "                    ytr, \n",
        "                    epochs=epochs, \n",
        "                    batch_size=BATCH_SIZE,\n",
        "                    validation_split=0.2,\n",
        "                    callbacks=[EarlyStopping(monitor='val_loss', patience=3, min_delta=0.0001)])\n",
        "  test_loss, test_accuracy = model.evaluate(xt, yt)\n",
        "  return model, history, test_accuracy\n",
        "\n",
        "# Softmax \n",
        "def softmax(model_output):\n",
        "    ret = []\n",
        "    for logits in model_output:\n",
        "        total = sum(np.exp(logits))\n",
        "        tmp = []\n",
        "        for logit in logits:\n",
        "            tmp.append(np.exp(logit)/total)\n",
        "        ret.append(tmp)\n",
        "    return ret"
      ],
      "execution_count": null,
      "outputs": []
    },
    {
      "cell_type": "code",
      "metadata": {
        "execution": {
          "iopub.status.busy": "2021-08-22T09:56:04.278752Z",
          "iopub.execute_input": "2021-08-22T09:56:04.279145Z",
          "iopub.status.idle": "2021-08-22T09:56:04.326991Z",
          "shell.execute_reply.started": "2021-08-22T09:56:04.279097Z",
          "shell.execute_reply": "2021-08-22T09:56:04.326154Z"
        },
        "trusted": true,
        "id": "s0_uGKOA8RsF"
      },
      "source": [
        "# Get rid of unwanted characters and punctuation to reduce noise\n",
        "df_train[\"Sentence\"] = df_train[\"Sentence\"].map(clean_text)\n",
        "df_test[\"Sentence\"] = df_test[\"Sentence\"].map(clean_text)"
      ],
      "execution_count": null,
      "outputs": []
    },
    {
      "cell_type": "code",
      "metadata": {
        "execution": {
          "iopub.status.busy": "2021-08-22T09:56:10.832049Z",
          "iopub.execute_input": "2021-08-22T09:56:10.832426Z",
          "iopub.status.idle": "2021-08-22T09:56:10.850336Z",
          "shell.execute_reply.started": "2021-08-22T09:56:10.832396Z",
          "shell.execute_reply": "2021-08-22T09:56:10.849253Z"
        },
        "trusted": true,
        "id": "Q11Y2VAV8RsG",
        "colab": {
          "base_uri": "https://localhost:8080/",
          "height": 204
        },
        "outputId": "67f23431-3567-43e7-d8a8-413c7ebe40ef"
      },
      "source": [
        "# Dataset view\n",
        "df_train.head()"
      ],
      "execution_count": null,
      "outputs": [
        {
          "output_type": "execute_result",
          "data": {
            "text/html": [
              "<div>\n",
              "<style scoped>\n",
              "    .dataframe tbody tr th:only-of-type {\n",
              "        vertical-align: middle;\n",
              "    }\n",
              "\n",
              "    .dataframe tbody tr th {\n",
              "        vertical-align: top;\n",
              "    }\n",
              "\n",
              "    .dataframe thead th {\n",
              "        text-align: right;\n",
              "    }\n",
              "</style>\n",
              "<table border=\"1\" class=\"dataframe\">\n",
              "  <thead>\n",
              "    <tr style=\"text-align: right;\">\n",
              "      <th></th>\n",
              "      <th>Sentence</th>\n",
              "      <th>Label</th>\n",
              "    </tr>\n",
              "  </thead>\n",
              "  <tbody>\n",
              "    <tr>\n",
              "      <th>0</th>\n",
              "      <td>autotank group part aspo systems division</td>\n",
              "      <td>1</td>\n",
              "    </tr>\n",
              "    <tr>\n",
              "      <th>1</th>\n",
              "      <td>contract includes design construction delivery...</td>\n",
              "      <td>1</td>\n",
              "    </tr>\n",
              "    <tr>\n",
              "      <th>2</th>\n",
              "      <td>rapala said estimates make savings 12 mln eur ...</td>\n",
              "      <td>2</td>\n",
              "    </tr>\n",
              "    <tr>\n",
              "      <th>3</th>\n",
              "      <td>share capital alma media corporation business ...</td>\n",
              "      <td>1</td>\n",
              "    </tr>\n",
              "    <tr>\n",
              "      <th>4</th>\n",
              "      <td>financial impact estimated 15 meur annual impr...</td>\n",
              "      <td>2</td>\n",
              "    </tr>\n",
              "  </tbody>\n",
              "</table>\n",
              "</div>"
            ],
            "text/plain": [
              "                                            Sentence  Label\n",
              "0          autotank group part aspo systems division      1\n",
              "1  contract includes design construction delivery...      1\n",
              "2  rapala said estimates make savings 12 mln eur ...      2\n",
              "3  share capital alma media corporation business ...      1\n",
              "4  financial impact estimated 15 meur annual impr...      2"
            ]
          },
          "metadata": {},
          "execution_count": 46
        }
      ]
    },
    {
      "cell_type": "code",
      "metadata": {
        "id": "AIpHIFWMAFCM",
        "colab": {
          "base_uri": "https://localhost:8080/",
          "height": 204
        },
        "outputId": "46bbd7e1-ba80-4977-d863-69ae688a4ff3"
      },
      "source": [
        "# Dataset view\n",
        "df_test.head()"
      ],
      "execution_count": null,
      "outputs": [
        {
          "output_type": "execute_result",
          "data": {
            "text/html": [
              "<div>\n",
              "<style scoped>\n",
              "    .dataframe tbody tr th:only-of-type {\n",
              "        vertical-align: middle;\n",
              "    }\n",
              "\n",
              "    .dataframe tbody tr th {\n",
              "        vertical-align: top;\n",
              "    }\n",
              "\n",
              "    .dataframe thead th {\n",
              "        text-align: right;\n",
              "    }\n",
              "</style>\n",
              "<table border=\"1\" class=\"dataframe\">\n",
              "  <thead>\n",
              "    <tr style=\"text-align: right;\">\n",
              "      <th></th>\n",
              "      <th>Sentence</th>\n",
              "      <th>Label</th>\n",
              "    </tr>\n",
              "  </thead>\n",
              "  <tbody>\n",
              "    <tr>\n",
              "      <th>0</th>\n",
              "      <td>third quarter 2010 net sales increased 52 eur ...</td>\n",
              "      <td>2</td>\n",
              "    </tr>\n",
              "    <tr>\n",
              "      <th>1</th>\n",
              "      <td>foundries division reports sales increased 97 ...</td>\n",
              "      <td>2</td>\n",
              "    </tr>\n",
              "    <tr>\n",
              "      <th>2</th>\n",
              "      <td>financing project come mainly china</td>\n",
              "      <td>1</td>\n",
              "    </tr>\n",
              "    <tr>\n",
              "      <th>3</th>\n",
              "      <td>sukhraj dulai 2900 block boni sue court culdes...</td>\n",
              "      <td>1</td>\n",
              "    </tr>\n",
              "    <tr>\n",
              "      <th>4</th>\n",
              "      <td>finland leading metals group outokumpu said fo...</td>\n",
              "      <td>2</td>\n",
              "    </tr>\n",
              "  </tbody>\n",
              "</table>\n",
              "</div>"
            ],
            "text/plain": [
              "                                            Sentence  Label\n",
              "0  third quarter 2010 net sales increased 52 eur ...      2\n",
              "1  foundries division reports sales increased 97 ...      2\n",
              "2                financing project come mainly china      1\n",
              "3  sukhraj dulai 2900 block boni sue court culdes...      1\n",
              "4  finland leading metals group outokumpu said fo...      2"
            ]
          },
          "metadata": {},
          "execution_count": 47
        }
      ]
    },
    {
      "cell_type": "code",
      "metadata": {
        "execution": {
          "iopub.status.busy": "2021-08-22T09:56:22.705613Z",
          "iopub.execute_input": "2021-08-22T09:56:22.705961Z",
          "iopub.status.idle": "2021-08-22T09:56:22.805741Z",
          "shell.execute_reply.started": "2021-08-22T09:56:22.705913Z",
          "shell.execute_reply": "2021-08-22T09:56:22.804766Z"
        },
        "trusted": true,
        "id": "tMZzVu-a8RsG",
        "colab": {
          "base_uri": "https://localhost:8080/"
        },
        "outputId": "2e0dec1e-c088-4347-ddb2-a464dcea7dc2"
      },
      "source": [
        "# Pad X train and X test, with the model fitted to X train\n",
        "X_train, X_test = pad_sequences_train(df_train, df_test)\n",
        "X_train"
      ],
      "execution_count": null,
      "outputs": [
        {
          "output_type": "execute_result",
          "data": {
            "text/plain": [
              "array([[  0,   0,   0, ..., 347,  91, 161],\n",
              "       [  0,   0,   0, ..., 285,  93, 484],\n",
              "       [  0,   0,   0, ...,  39, 185, 654],\n",
              "       ...,\n",
              "       [  0,   0,   0, ...,  32,  11,  16],\n",
              "       [  0,   0,   0, ...,  11,  94,  15],\n",
              "       [  0,   0,   0, ..., 909,  33, 218]], dtype=int32)"
            ]
          },
          "metadata": {},
          "execution_count": 19
        }
      ]
    },
    {
      "cell_type": "code",
      "metadata": {
        "execution": {
          "iopub.status.busy": "2021-08-22T09:56:27.835711Z",
          "iopub.execute_input": "2021-08-22T09:56:27.836089Z",
          "iopub.status.idle": "2021-08-22T09:56:27.841742Z",
          "shell.execute_reply.started": "2021-08-22T09:56:27.836055Z",
          "shell.execute_reply": "2021-08-22T09:56:27.840796Z"
        },
        "trusted": true,
        "id": "4BgAdCWk8RsG",
        "colab": {
          "base_uri": "https://localhost:8080/"
        },
        "outputId": "984a6424-2a04-47b0-c86c-79f7904fe13c"
      },
      "source": [
        "X_test"
      ],
      "execution_count": null,
      "outputs": [
        {
          "output_type": "execute_result",
          "data": {
            "text/plain": [
              "array([[  0,   0,   0, ...,   4,   1,   2],\n",
              "       [  0,   0,   0, ...,  32,  11,  31],\n",
              "       [  0,   0,   0, ..., 786, 534, 270],\n",
              "       ...,\n",
              "       [  0,   0,   0, ...,  25, 954, 363],\n",
              "       [  0,   0,   0, ..., 536, 931,  27],\n",
              "       [  0,   0,   0, ...,   2,   1,   2]], dtype=int32)"
            ]
          },
          "metadata": {},
          "execution_count": 20
        }
      ]
    },
    {
      "cell_type": "code",
      "metadata": {
        "execution": {
          "iopub.status.busy": "2021-08-22T09:56:34.146530Z",
          "iopub.execute_input": "2021-08-22T09:56:34.146876Z",
          "iopub.status.idle": "2021-08-22T09:56:34.156618Z",
          "shell.execute_reply.started": "2021-08-22T09:56:34.146819Z",
          "shell.execute_reply": "2021-08-22T09:56:34.155705Z"
        },
        "trusted": true,
        "id": "_qjUvfF68RsH",
        "colab": {
          "base_uri": "https://localhost:8080/"
        },
        "outputId": "2a7ec471-e126-473e-dcbe-b11e81cb9fea"
      },
      "source": [
        "# Get dummies to turn labels into a format where it can be processed by a probabilistic model\n",
        "Y_train = pd.get_dummies(df_train[\"Label\"]).values\n",
        "Y_test = pd.get_dummies(df_test[\"Label\"]).values\n",
        "Y_train"
      ],
      "execution_count": null,
      "outputs": [
        {
          "output_type": "execute_result",
          "data": {
            "text/plain": [
              "array([[0, 1, 0],\n",
              "       [0, 1, 0],\n",
              "       [0, 0, 1],\n",
              "       ...,\n",
              "       [1, 0, 0],\n",
              "       [0, 0, 1],\n",
              "       [0, 1, 0]], dtype=uint8)"
            ]
          },
          "metadata": {},
          "execution_count": 52
        }
      ]
    },
    {
      "cell_type": "code",
      "metadata": {
        "id": "0ayJLbVeAuMc",
        "colab": {
          "base_uri": "https://localhost:8080/"
        },
        "outputId": "8c13b539-a87d-478f-9612-47b336fb33fd"
      },
      "source": [
        "Y_test"
      ],
      "execution_count": null,
      "outputs": [
        {
          "output_type": "execute_result",
          "data": {
            "text/plain": [
              "array([[0, 0, 1],\n",
              "       [0, 0, 1],\n",
              "       [0, 1, 0],\n",
              "       [0, 1, 0],\n",
              "       [0, 0, 1],\n",
              "       [0, 1, 0],\n",
              "       [0, 1, 0],\n",
              "       [0, 1, 0],\n",
              "       [0, 0, 1],\n",
              "       [0, 0, 1],\n",
              "       [0, 1, 0],\n",
              "       [1, 0, 0],\n",
              "       [0, 1, 0],\n",
              "       [0, 1, 0],\n",
              "       [0, 0, 1],\n",
              "       [0, 1, 0],\n",
              "       [0, 1, 0],\n",
              "       [0, 1, 0],\n",
              "       [0, 0, 1],\n",
              "       [0, 0, 1],\n",
              "       [0, 1, 0],\n",
              "       [0, 1, 0],\n",
              "       [0, 1, 0],\n",
              "       [0, 1, 0],\n",
              "       [0, 1, 0],\n",
              "       [1, 0, 0],\n",
              "       [0, 1, 0],\n",
              "       [0, 1, 0],\n",
              "       [0, 1, 0],\n",
              "       [0, 1, 0],\n",
              "       [0, 1, 0],\n",
              "       [1, 0, 0],\n",
              "       [1, 0, 0],\n",
              "       [0, 0, 1],\n",
              "       [0, 1, 0],\n",
              "       [0, 1, 0],\n",
              "       [0, 0, 1],\n",
              "       [1, 0, 0],\n",
              "       [0, 1, 0],\n",
              "       [0, 0, 1],\n",
              "       [0, 0, 1],\n",
              "       [0, 1, 0],\n",
              "       [0, 1, 0],\n",
              "       [0, 1, 0],\n",
              "       [0, 1, 0],\n",
              "       [0, 1, 0],\n",
              "       [0, 1, 0],\n",
              "       [0, 1, 0],\n",
              "       [0, 1, 0],\n",
              "       [0, 1, 0],\n",
              "       [0, 1, 0],\n",
              "       [0, 1, 0],\n",
              "       [1, 0, 0],\n",
              "       [0, 1, 0],\n",
              "       [0, 1, 0],\n",
              "       [1, 0, 0],\n",
              "       [0, 1, 0],\n",
              "       [0, 1, 0],\n",
              "       [0, 0, 1],\n",
              "       [0, 1, 0],\n",
              "       [0, 0, 1],\n",
              "       [0, 1, 0],\n",
              "       [0, 1, 0],\n",
              "       [0, 1, 0],\n",
              "       [0, 0, 1],\n",
              "       [0, 1, 0],\n",
              "       [0, 1, 0],\n",
              "       [1, 0, 0],\n",
              "       [0, 1, 0],\n",
              "       [1, 0, 0],\n",
              "       [0, 1, 0],\n",
              "       [0, 1, 0],\n",
              "       [0, 1, 0],\n",
              "       [0, 1, 0],\n",
              "       [0, 1, 0],\n",
              "       [1, 0, 0],\n",
              "       [0, 1, 0],\n",
              "       [0, 1, 0],\n",
              "       [0, 1, 0],\n",
              "       [0, 1, 0],\n",
              "       [0, 1, 0],\n",
              "       [0, 1, 0],\n",
              "       [0, 0, 1],\n",
              "       [0, 0, 1],\n",
              "       [0, 1, 0],\n",
              "       [1, 0, 0],\n",
              "       [0, 0, 1],\n",
              "       [0, 0, 1],\n",
              "       [0, 1, 0],\n",
              "       [0, 0, 1],\n",
              "       [0, 0, 1],\n",
              "       [0, 1, 0],\n",
              "       [0, 1, 0],\n",
              "       [0, 1, 0],\n",
              "       [0, 0, 1],\n",
              "       [0, 1, 0],\n",
              "       [0, 1, 0],\n",
              "       [0, 0, 1],\n",
              "       [0, 0, 1],\n",
              "       [0, 0, 1],\n",
              "       [0, 1, 0],\n",
              "       [0, 1, 0],\n",
              "       [0, 1, 0],\n",
              "       [0, 1, 0],\n",
              "       [1, 0, 0],\n",
              "       [0, 0, 1],\n",
              "       [0, 1, 0],\n",
              "       [0, 1, 0],\n",
              "       [0, 1, 0],\n",
              "       [0, 0, 1],\n",
              "       [0, 1, 0],\n",
              "       [0, 0, 1],\n",
              "       [0, 0, 1],\n",
              "       [1, 0, 0],\n",
              "       [0, 1, 0],\n",
              "       [0, 1, 0],\n",
              "       [0, 0, 1],\n",
              "       [0, 1, 0],\n",
              "       [0, 1, 0],\n",
              "       [0, 1, 0],\n",
              "       [0, 1, 0],\n",
              "       [0, 1, 0],\n",
              "       [0, 0, 1],\n",
              "       [1, 0, 0],\n",
              "       [1, 0, 0],\n",
              "       [0, 1, 0],\n",
              "       [0, 1, 0],\n",
              "       [0, 0, 1],\n",
              "       [0, 1, 0],\n",
              "       [0, 1, 0],\n",
              "       [1, 0, 0],\n",
              "       [0, 1, 0],\n",
              "       [0, 1, 0],\n",
              "       [0, 1, 0],\n",
              "       [0, 0, 1],\n",
              "       [0, 0, 1],\n",
              "       [0, 0, 1],\n",
              "       [1, 0, 0],\n",
              "       [1, 0, 0],\n",
              "       [0, 1, 0],\n",
              "       [0, 1, 0],\n",
              "       [0, 0, 1],\n",
              "       [0, 1, 0],\n",
              "       [0, 0, 1],\n",
              "       [0, 1, 0],\n",
              "       [1, 0, 0],\n",
              "       [0, 1, 0],\n",
              "       [0, 1, 0],\n",
              "       [0, 1, 0],\n",
              "       [1, 0, 0],\n",
              "       [0, 0, 1],\n",
              "       [1, 0, 0],\n",
              "       [0, 1, 0],\n",
              "       [0, 1, 0],\n",
              "       [1, 0, 0],\n",
              "       [0, 1, 0],\n",
              "       [0, 0, 1],\n",
              "       [0, 1, 0],\n",
              "       [0, 1, 0],\n",
              "       [0, 1, 0],\n",
              "       [0, 1, 0],\n",
              "       [0, 1, 0],\n",
              "       [0, 1, 0],\n",
              "       [1, 0, 0],\n",
              "       [1, 0, 0],\n",
              "       [0, 0, 1],\n",
              "       [0, 0, 1],\n",
              "       [1, 0, 0],\n",
              "       [0, 1, 0],\n",
              "       [0, 1, 0],\n",
              "       [0, 1, 0],\n",
              "       [0, 1, 0],\n",
              "       [0, 1, 0],\n",
              "       [1, 0, 0],\n",
              "       [0, 0, 1],\n",
              "       [0, 1, 0],\n",
              "       [0, 1, 0],\n",
              "       [0, 1, 0],\n",
              "       [1, 0, 0],\n",
              "       [0, 0, 1],\n",
              "       [0, 1, 0],\n",
              "       [0, 0, 1],\n",
              "       [0, 1, 0],\n",
              "       [0, 1, 0],\n",
              "       [1, 0, 0],\n",
              "       [0, 1, 0],\n",
              "       [0, 1, 0],\n",
              "       [1, 0, 0],\n",
              "       [0, 1, 0],\n",
              "       [0, 0, 1],\n",
              "       [1, 0, 0],\n",
              "       [0, 0, 1],\n",
              "       [0, 1, 0],\n",
              "       [0, 0, 1],\n",
              "       [0, 1, 0],\n",
              "       [0, 0, 1],\n",
              "       [0, 0, 1],\n",
              "       [0, 1, 0],\n",
              "       [0, 0, 1],\n",
              "       [0, 1, 0],\n",
              "       [0, 1, 0],\n",
              "       [0, 1, 0],\n",
              "       [0, 0, 1],\n",
              "       [0, 1, 0],\n",
              "       [0, 0, 1],\n",
              "       [0, 0, 1],\n",
              "       [0, 1, 0],\n",
              "       [0, 1, 0],\n",
              "       [0, 1, 0],\n",
              "       [0, 1, 0],\n",
              "       [0, 1, 0],\n",
              "       [0, 1, 0],\n",
              "       [0, 1, 0],\n",
              "       [0, 1, 0],\n",
              "       [0, 1, 0],\n",
              "       [0, 1, 0],\n",
              "       [0, 1, 0],\n",
              "       [0, 1, 0],\n",
              "       [0, 1, 0],\n",
              "       [0, 0, 1],\n",
              "       [0, 1, 0],\n",
              "       [0, 0, 1],\n",
              "       [0, 1, 0],\n",
              "       [0, 0, 1],\n",
              "       [0, 1, 0],\n",
              "       [0, 1, 0],\n",
              "       [0, 0, 1]], dtype=uint8)"
            ]
          },
          "metadata": {},
          "execution_count": 54
        }
      ]
    },
    {
      "cell_type": "code",
      "metadata": {
        "execution": {
          "iopub.status.busy": "2021-08-22T10:18:59.296556Z",
          "iopub.execute_input": "2021-08-22T10:18:59.296899Z",
          "iopub.status.idle": "2021-08-22T10:24:05.409466Z",
          "shell.execute_reply.started": "2021-08-22T10:18:59.296871Z",
          "shell.execute_reply": "2021-08-22T10:24:05.408695Z"
        },
        "trusted": true,
        "id": "AW3sYR518RsH",
        "colab": {
          "base_uri": "https://localhost:8080/"
        },
        "outputId": "a17affaf-59f3-4b65-9a16-4b4e9cc53644"
      },
      "source": [
        "# Initialize model\n",
        "label_count = 3\n",
        "label_map = {0:\"negative\", 1:\"neutral\", 2:\"positive\"}\n",
        "\n",
        "model, history, test_accuracy = run_model(X_train, Y_train, X_test, Y_test, label_count, 5, 256, 1000, 300)"
      ],
      "execution_count": null,
      "outputs": [
        {
          "output_type": "stream",
          "text": [
            "Model: \"sequential_1\"\n",
            "_________________________________________________________________\n",
            "Layer (type)                 Output Shape              Param #   \n",
            "=================================================================\n",
            "embedding_1 (Embedding)      (None, 256, 300)          300300    \n",
            "_________________________________________________________________\n",
            "spatial_dropout1d_1 (Spatial (None, 256, 300)          0         \n",
            "_________________________________________________________________\n",
            "lstm_1 (LSTM)                (None, 100)               160400    \n",
            "_________________________________________________________________\n",
            "dense_1 (Dense)              (None, 3)                 303       \n",
            "=================================================================\n",
            "Total params: 461,003\n",
            "Trainable params: 461,003\n",
            "Non-trainable params: 0\n",
            "_________________________________________________________________\n",
            "None\n",
            "Epoch 1/5\n",
            "51/51 [==============================] - 34s 625ms/step - loss: 0.8317 - accuracy: 0.7017 - val_loss: 0.6619 - val_accuracy: 0.7475\n",
            "Epoch 2/5\n",
            "51/51 [==============================] - 32s 619ms/step - loss: 0.4720 - accuracy: 0.8103 - val_loss: 0.5788 - val_accuracy: 0.7794\n",
            "Epoch 3/5\n",
            "51/51 [==============================] - 32s 626ms/step - loss: 0.2898 - accuracy: 0.8999 - val_loss: 0.5422 - val_accuracy: 0.8039\n",
            "Epoch 4/5\n",
            "51/51 [==============================] - 32s 628ms/step - loss: 0.1774 - accuracy: 0.9405 - val_loss: 0.6248 - val_accuracy: 0.8113\n",
            "Epoch 5/5\n",
            "51/51 [==============================] - 32s 625ms/step - loss: 0.1297 - accuracy: 0.9669 - val_loss: 0.6234 - val_accuracy: 0.8039\n",
            "8/8 [==============================] - 1s 81ms/step - loss: 0.5321 - accuracy: 0.8414\n"
          ],
          "name": "stdout"
        }
      ]
    },
    {
      "cell_type": "code",
      "metadata": {
        "execution": {
          "iopub.status.busy": "2021-08-22T10:24:09.968357Z",
          "iopub.execute_input": "2021-08-22T10:24:09.968689Z",
          "iopub.status.idle": "2021-08-22T10:24:11.582685Z",
          "shell.execute_reply.started": "2021-08-22T10:24:09.968654Z",
          "shell.execute_reply": "2021-08-22T10:24:11.581841Z"
        },
        "trusted": true,
        "id": "ELbnmu-B8RsH",
        "colab": {
          "base_uri": "https://localhost:8080/"
        },
        "outputId": "9c271543-9cde-43dc-8f61-d784b52c1982"
      },
      "source": [
        "# Scrape BBC News for company activities\n",
        "r1 = requests.get(\"https://www.bbc.com/news/business/companies\")\n",
        "coverpage = r1.content\n",
        "\n",
        "soup1 = BeautifulSoup(coverpage, 'html5lib')\n",
        "coverpage_news = soup1.find_all('h3')\n",
        "filtered_news = []\n",
        "\n",
        "# If a company wants to see how their name is doing, they can pass their company name/keywords into the function\n",
        "def get_filtered_news(company_name:str=None):\n",
        "  if company_name: company_name = company_name.lower()\n",
        "  for news in coverpage_news:\n",
        "    line = news.get_text().lower()\n",
        "    if company_name and company_name in line:\n",
        "      filtered_news.append(line)\n",
        "    elif not company_name:\n",
        "      filtered_news.append(line)\n",
        "\n",
        "get_filtered_news()\n",
        "\n",
        "print(filtered_news[:10])"
      ],
      "execution_count": null,
      "outputs": [
        {
          "output_type": "stream",
          "text": [
            "[\"takeover of uk tech firm 'raises serious concerns'\", \"takeover of uk tech firm 'raises serious concerns'\", 'm&s says recovery plan boosting sales and profits', \"morrisons backs us firm's improved takeover offer\", 'apple delays return to the office until 2022', 'onlyfans to ban sexually explicit content', \"amazon 'planning to open department stores in us'\", 'lloyds aiming to become giant uk landlord', \"takeover of uk tech firm 'raises serious concerns'\", 'm&s says recovery plan boosting sales and profits']\n"
          ],
          "name": "stdout"
        }
      ]
    },
    {
      "cell_type": "code",
      "metadata": {
        "execution": {
          "iopub.status.busy": "2021-08-22T10:24:13.602896Z",
          "iopub.execute_input": "2021-08-22T10:24:13.603287Z",
          "iopub.status.idle": "2021-08-22T10:24:14.008140Z",
          "shell.execute_reply.started": "2021-08-22T10:24:13.603254Z",
          "shell.execute_reply": "2021-08-22T10:24:14.007227Z"
        },
        "trusted": true,
        "id": "EPMO_U578RsH",
        "colab": {
          "base_uri": "https://localhost:8080/"
        },
        "outputId": "c6222a81-02a0-49d6-c76d-01cf85963cc1"
      },
      "source": [
        "# preprocess data\n",
        "filtered_news = pd.DataFrame(filtered_news, columns=[\"Sentence\"]).Sentence.map(clean_text)\n",
        "print(type(filtered_news))\n",
        "tokenizer = Tokenizer(num_words=MAX_NB_WORDS, filters=PUNCTUATION, lower=True)\n",
        "tokenizer.fit_on_texts(df_train['Sentence'].values)\n",
        "Xn = tokenizer.texts_to_sequences(filtered_news.values)\n",
        "X_new = pad_sequences(Xn, maxlen=MAX_SEQUENCE_LENGTH)\n",
        "print(X_new.shape)"
      ],
      "execution_count": null,
      "outputs": [
        {
          "output_type": "stream",
          "text": [
            "<class 'pandas.core.series.Series'>\n",
            "(66, 256)\n"
          ],
          "name": "stdout"
        }
      ]
    },
    {
      "cell_type": "code",
      "metadata": {
        "execution": {
          "iopub.status.busy": "2021-08-22T10:34:52.089700Z",
          "iopub.execute_input": "2021-08-22T10:34:52.090035Z",
          "iopub.status.idle": "2021-08-22T10:34:52.321262Z",
          "shell.execute_reply.started": "2021-08-22T10:34:52.090003Z",
          "shell.execute_reply": "2021-08-22T10:34:52.320400Z"
        },
        "trusted": true,
        "id": "rZ0KUOFh8RsI",
        "colab": {
          "base_uri": "https://localhost:8080/"
        },
        "outputId": "57d7ebfb-2578-4d5d-ed2b-f8887ffcfe21"
      },
      "source": [
        "preds = model.predict(X_new)\n",
        "softmax_preds = softmax(preds)\n",
        "softmax_preds[:10]"
      ],
      "execution_count": null,
      "outputs": [
        {
          "output_type": "execute_result",
          "data": {
            "text/plain": [
              "[[0.26097461389843385, 0.42273424548240246, 0.3162911406191637],\n",
              " [0.26097461389843385, 0.42273424548240246, 0.3162911406191637],\n",
              " [0.2501424054795962, 0.2826346438876367, 0.4672229506327671],\n",
              " [0.24308772075080287, 0.2444590522536492, 0.512453226995548],\n",
              " [0.21520601790283897, 0.5673704816027478, 0.2174235004944132],\n",
              " [0.22256167198383364, 0.5549039539590436, 0.22253437405712279],\n",
              " [0.2808072193635048, 0.4452521975202738, 0.27394058311622144],\n",
              " [0.2829275877989341, 0.3373358510511065, 0.3797365611499594],\n",
              " [0.26097461389843385, 0.42273424548240246, 0.3162911406191637],\n",
              " [0.2501424054795962, 0.2826346438876367, 0.4672229506327671]]"
            ]
          },
          "metadata": {},
          "execution_count": 26
        }
      ]
    },
    {
      "cell_type": "code",
      "metadata": {
        "execution": {
          "iopub.status.busy": "2021-08-22T10:42:40.475640Z",
          "iopub.execute_input": "2021-08-22T10:42:40.476002Z",
          "iopub.status.idle": "2021-08-22T10:42:40.487999Z",
          "shell.execute_reply.started": "2021-08-22T10:42:40.475970Z",
          "shell.execute_reply": "2021-08-22T10:42:40.487160Z"
        },
        "trusted": true,
        "id": "RYY6eDUy8RsI",
        "colab": {
          "base_uri": "https://localhost:8080/"
        },
        "outputId": "651caf90-e4d6-4a8d-dff7-e5bf031a39ab"
      },
      "source": [
        "positives = [news+\"    prob:\"+str(softmax[2]) for news, softmax in zip(filtered_news, softmax_preds) if 2 == np.argmax(softmax)]\n",
        "positives"
      ],
      "execution_count": null,
      "outputs": [
        {
          "output_type": "execute_result",
          "data": {
            "text/plain": [
              "['ms says recovery plan boosting sales profits    prob:0.4672229506327671',\n",
              " 'morrisons backs us firms improved takeover offer    prob:0.512453226995548',\n",
              " 'lloyds aiming become giant uk landlord    prob:0.3797365611499594',\n",
              " 'ms says recovery plan boosting sales profits    prob:0.4672229506327671',\n",
              " 'morrisons backs us firms improved takeover offer    prob:0.512453226995548',\n",
              " 'lloyds aiming become giant uk landlord    prob:0.3797365611499594',\n",
              " 'ms says recovery plan boosting sales profits    prob:0.4672229506327671',\n",
              " 'morrisons backs us firms improved takeover offer    prob:0.512453226995548',\n",
              " 'lloyds aiming become giant uk landlord    prob:0.3797365611499594',\n",
              " 'former netfli staffers charged insider trading    prob:0.38339847919381076',\n",
              " 'franco manca owner planning big epansion    prob:0.37189981116194204',\n",
              " 'brazil hopes world get taste favourite spirit    prob:0.36448717509398443',\n",
              " 'ms says recovery plan boosting sales profits    prob:0.4672229506327671',\n",
              " 'morrisons backs us firms improved takeover offer    prob:0.512453226995548',\n",
              " 'franco manca owner planning big epansion    prob:0.37189981116194204',\n",
              " 'uk defence giant ultra agrees 26bn takeover    prob:0.3797365611499594',\n",
              " 'streaming service dazn seeks shake tv sport    prob:0.34679641714902326',\n",
              " 'mobile app    prob:0.34036266821635375']"
            ]
          },
          "metadata": {},
          "execution_count": 27
        }
      ]
    },
    {
      "cell_type": "code",
      "metadata": {
        "execution": {
          "iopub.status.busy": "2021-08-22T10:37:39.338286Z",
          "iopub.execute_input": "2021-08-22T10:37:39.338621Z",
          "iopub.status.idle": "2021-08-22T10:37:39.347514Z",
          "shell.execute_reply.started": "2021-08-22T10:37:39.338591Z",
          "shell.execute_reply": "2021-08-22T10:37:39.346684Z"
        },
        "trusted": true,
        "id": "cmlJUPJv8RsI",
        "colab": {
          "base_uri": "https://localhost:8080/"
        },
        "outputId": "a99d35a7-4a45-4a82-9849-b66000e946de"
      },
      "source": [
        "neutrals = [news for news, softmax in zip(filtered_news, softmax_preds) if 1 == np.argmax(softmax)]\n",
        "neutrals"
      ],
      "execution_count": null,
      "outputs": [
        {
          "output_type": "execute_result",
          "data": {
            "text/plain": [
              "['takeover uk tech firm raises serious concerns',\n",
              " 'takeover uk tech firm raises serious concerns',\n",
              " 'apple delays return office 2022',\n",
              " 'onlyfans ban seually eplicit content',\n",
              " 'amazon planning open department stores us',\n",
              " 'takeover uk tech firm raises serious concerns',\n",
              " 'apple delays return office 2022',\n",
              " 'onlyfans ban seually eplicit content',\n",
              " 'amazon planning open department stores us',\n",
              " 'apple delays return office 2022',\n",
              " 'onlyfans ban seually eplicit content',\n",
              " 'amazon planning open department stores us',\n",
              " 'toyota cut production 40 amid chip crisis',\n",
              " 'ftse bosses earn 86 times average wage',\n",
              " 'never mind going electric park',\n",
              " 'five ways firms reach purple pound',\n",
              " 'trust big tech health data',\n",
              " 'music always need',\n",
              " 'couples handle awkward chats money',\n",
              " 'boohoo ceo says clothes arent throwaway',\n",
              " 'touring france postbreit puzzle',\n",
              " 'fisherwomen honoured photography ehibition',\n",
              " 'takeover uk tech firm raises serious concerns',\n",
              " 'apple delays return office 2022',\n",
              " 'sky broadband says online access problems resolved',\n",
              " 'mecca bingo firm suffers big losses amid lockdown',\n",
              " 'uk defence firm deal unlikely rejected',\n",
              " 'government told april pcr test ripoff',\n",
              " 'ftse bosses earn 86 times average wage',\n",
              " 'nandos hopes reopen fully saturday',\n",
              " 'mining giant bhp leave ftse 100 sydney',\n",
              " 'former itv boss appointed new chairman bt',\n",
              " 'bezos sues nasa deal elon musks space',\n",
              " 'morrisons bid rival make property sale pledge',\n",
              " 'new york vaccine rule could destroy restaurant',\n",
              " 'pingdemic got close complete shutdown',\n",
              " 'hand gestures never die',\n",
              " 'se positivity really means',\n",
              " 'immense mystery 11 000 years old',\n",
              " 'mystery lost leonardo',\n",
              " 'mindfulness make selfish',\n",
              " 'couscous meal built generosity',\n",
              " 'news daily newsletter',\n",
              " 'get touch']"
            ]
          },
          "metadata": {},
          "execution_count": 28
        }
      ]
    },
    {
      "cell_type": "code",
      "metadata": {
        "execution": {
          "iopub.status.busy": "2021-08-22T10:38:36.907958Z",
          "iopub.execute_input": "2021-08-22T10:38:36.908315Z",
          "iopub.status.idle": "2021-08-22T10:38:36.916016Z",
          "shell.execute_reply.started": "2021-08-22T10:38:36.908266Z",
          "shell.execute_reply": "2021-08-22T10:38:36.915053Z"
        },
        "trusted": true,
        "id": "a0P1duct8RsI",
        "colab": {
          "base_uri": "https://localhost:8080/"
        },
        "outputId": "08c534a3-ffd4-418b-dd15-6fa0c10568e2"
      },
      "source": [
        "negatives = [news for news, softmax in zip(filtered_news, softmax_preds) if 0 == np.argmax(softmax)]\n",
        "negatives"
      ],
      "execution_count": null,
      "outputs": [
        {
          "output_type": "execute_result",
          "data": {
            "text/plain": [
              "['40 million tmobile customers hit data breach',\n",
              " 'bank scam victims speak trouble getting refunds',\n",
              " 'home depot discriminated blm supporter',\n",
              " 'future historians study us']"
            ]
          },
          "metadata": {},
          "execution_count": 29
        }
      ]
    },
    {
      "cell_type": "code",
      "metadata": {
        "id": "AC8z-oKz8RsJ",
        "colab": {
          "base_uri": "https://localhost:8080/",
          "height": 400
        },
        "outputId": "9c2c7d00-fa26-4df4-bfe0-8e6aaedd1f82"
      },
      "source": [
        "# Label distribution on the training dataset\n",
        "fig = plt.figure(figsize=(10,6))\n",
        "plt.title('Training Set Label Distribution')\n",
        "plt.xlabel('Sentiment Label')\n",
        "plt.ylabel('Count')\n",
        "df_train.groupby('Label').Sentence.count().plot.bar()\n",
        "plt.show()"
      ],
      "execution_count": null,
      "outputs": [
        {
          "output_type": "display_data",
          "data": {
            "image/png": "[encoded data removed]",
            "text/plain": [
              "<Figure size 720x432 with 1 Axes>"
            ]
          },
          "metadata": {
            "needs_background": "light"
          }
        }
      ]
    },
    {
      "cell_type": "code",
      "metadata": {
        "id": "edTYIGHD9kHm",
        "colab": {
          "base_uri": "https://localhost:8080/",
          "height": 730
        },
        "outputId": "950c157a-d7f9-40b8-aafa-0492e49e55fb"
      },
      "source": [
        "# Confusion matrix for performance of model on x and y test\n",
        "cm = metrics.confusion_matrix(np.argmax(Y_test, axis=1), np.argmax(model.predict(X_test),axis=1))\n",
        "labels = [\"Negative\",\"Neutral\",\"Positive\"]\n",
        "df_cm = pd.DataFrame(cm, index =labels, columns = labels)\n",
        "fig = plt.figure(figsize=(14,12))\n",
        "res = sns.heatmap(df_cm, annot=True,cmap='Reds', fmt='g')\n",
        "plt.yticks([0.5,1.5,2.5], labels,va='center')\n",
        "plt.title('Confusion Matrix - TestData')\n",
        "plt.ylabel('True label')\n",
        "plt.xlabel('Predicted label')\n",
        "plt.show()\n",
        "plt.close()"
      ],
      "execution_count": null,
      "outputs": [
        {
          "output_type": "display_data",
          "data": {
            "image/png": "[encoded data removed]",
            "text/plain": [
              "<Figure size 1008x864 with 2 Axes>"
            ]
          },
          "metadata": {
            "needs_background": "light"
          }
        }
      ]
    },
    {
      "cell_type": "code",
      "metadata": {
        "id": "RSPH3efo-jIj",
        "colab": {
          "base_uri": "https://localhost:8080/",
          "height": 204
        },
        "outputId": "c84e4f44-0d8c-4858-c685-6583fadafd9f"
      },
      "source": [
        "df_train.head()"
      ],
      "execution_count": null,
      "outputs": [
        {
          "output_type": "execute_result",
          "data": {
            "text/html": [
              "<div>\n",
              "<style scoped>\n",
              "    .dataframe tbody tr th:only-of-type {\n",
              "        vertical-align: middle;\n",
              "    }\n",
              "\n",
              "    .dataframe tbody tr th {\n",
              "        vertical-align: top;\n",
              "    }\n",
              "\n",
              "    .dataframe thead th {\n",
              "        text-align: right;\n",
              "    }\n",
              "</style>\n",
              "<table border=\"1\" class=\"dataframe\">\n",
              "  <thead>\n",
              "    <tr style=\"text-align: right;\">\n",
              "      <th></th>\n",
              "      <th>Sentence</th>\n",
              "      <th>Label</th>\n",
              "    </tr>\n",
              "  </thead>\n",
              "  <tbody>\n",
              "    <tr>\n",
              "      <th>0</th>\n",
              "      <td>autotank group part aspo systems division</td>\n",
              "      <td>1</td>\n",
              "    </tr>\n",
              "    <tr>\n",
              "      <th>1</th>\n",
              "      <td>contract includes design construction delivery...</td>\n",
              "      <td>1</td>\n",
              "    </tr>\n",
              "    <tr>\n",
              "      <th>2</th>\n",
              "      <td>rapala said estimates make savings 12 mln eur ...</td>\n",
              "      <td>2</td>\n",
              "    </tr>\n",
              "    <tr>\n",
              "      <th>3</th>\n",
              "      <td>share capital alma media corporation business ...</td>\n",
              "      <td>1</td>\n",
              "    </tr>\n",
              "    <tr>\n",
              "      <th>4</th>\n",
              "      <td>financial impact estimated 15 meur annual impr...</td>\n",
              "      <td>2</td>\n",
              "    </tr>\n",
              "  </tbody>\n",
              "</table>\n",
              "</div>"
            ],
            "text/plain": [
              "                                            Sentence  Label\n",
              "0          autotank group part aspo systems division      1\n",
              "1  contract includes design construction delivery...      1\n",
              "2  rapala said estimates make savings 12 mln eur ...      2\n",
              "3  share capital alma media corporation business ...      1\n",
              "4  financial impact estimated 15 meur annual impr...      2"
            ]
          },
          "metadata": {},
          "execution_count": 42
        }
      ]
    },
    {
      "cell_type": "code",
      "metadata": {
        "id": "kkjInTp2-tAw"
      },
      "source": [
        ""
      ],
      "execution_count": null,
      "outputs": []
    }
  ]
}